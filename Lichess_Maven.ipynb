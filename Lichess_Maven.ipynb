{
 "cells": [
  {
   "cell_type": "code",
   "execution_count": 1,
   "id": "c916b82d-30d0-48e9-8fbf-18e532b0b364",
   "metadata": {},
   "outputs": [],
   "source": [
    "#standard imports\n",
    "import pandas as pd\n",
    "import numpy as np\n",
    "from io import BytesIO\n",
    "#specialized imports\n",
    "import re\n",
    "import io\n",
    "import os\n",
    "import stockfish"
   ]
  },
  {
   "cell_type": "code",
   "execution_count": 2,
   "id": "23690ecb-1e95-4be8-8d98-383e936c5d5f",
   "metadata": {},
   "outputs": [],
   "source": [
    "#importing the raw data (courtesy of Maven Analytics)\n",
    "games_df = pd.read_csv(r\"C:\\Users\\CDHan\\Documents\\Online+Chess+Games\\chess_games.csv\")\n",
    "#checking the dataframe\n",
    "print(games_df)"
   ]
  },
  {
   "cell_type": "code",
   "execution_count": 8,
   "id": "6e1634ab-d8ef-4dd9-bdf6-341d3f41e54c",
   "metadata": {},
   "outputs": [
    {
     "name": "stdout",
     "output_type": "stream",
     "text": [
      "Highest White rating2700\n",
      "Highest Black rating2723\n"
     ]
    }
   ],
   "source": [
    "#checking ratings spread.\n",
    "print(\"Highest White rating\" + str(games_df['white_rating'].max()))\n",
    "print(\"Highest Black rating\" + str(games_df['black_rating'].max()))"
   ]
  },
  {
   "cell_type": "code",
   "execution_count": 10,
   "id": "7aeee831-e395-49d6-b2a6-2c33ba50c950",
   "metadata": {},
   "outputs": [],
   "source": [
    "#defining a function to determine rating brackets\n",
    "def ratingbracket(x):\n",
    "    if x >= 2500:\n",
    "        return \"Grandmaster\"\n",
    "    elif x >= 2400:\n",
    "        return \"International Master\"\n",
    "    elif x >= 2300:\n",
    "        return \"FIDE Master\"\n",
    "    elif x >= 2000:\n",
    "        return \"Candidate Master\"\n",
    "    elif x >= 1800:\n",
    "        return \"Class A\"\n",
    "    elif x >= 1600:\n",
    "        return \"Class B\"\n",
    "    elif x >= 1400:\n",
    "        return \"Class C\"\n",
    "    elif x >= 1200:\n",
    "        return \"Class D\"\n",
    "    elif x >= 1000:\n",
    "        return \"Class E\"\n",
    "    elif x < 1000:\n",
    "        return \"Class D\"\n",
    "    else:\n",
    "        return \"Error\"\n",
    "#Assumes Lichess rating maps to FIDE ELO (counterfactual)"
   ]
  },
  {
   "cell_type": "code",
   "execution_count": 12,
   "id": "baa16d75-f8ed-490e-9390-1ecb907779c4",
   "metadata": {},
   "outputs": [],
   "source": [
    "#bracketting player ratings \n",
    "games_df['black_bracket'] = games_df['black_rating'].apply(ratingbracket)\n",
    "games_df['white_bracket'] = games_df['white_rating'].apply(ratingbracket)"
   ]
  },
  {
   "cell_type": "code",
   "execution_count": 17,
   "id": "a0203d0c-830b-41fc-b7db-a30f2bf27de8",
   "metadata": {},
   "outputs": [],
   "source": [
    "#defining the function to split time and increment\n",
    "def extract_time_and_increment(data):\n",
    "    time, increment = data.split(\"+\")\n",
    "    return str(time), str(increment)"
   ]
  },
  {
   "cell_type": "code",
   "execution_count": 19,
   "id": "5d16084f-adb4-4b35-b63f-c9b1f943a59f",
   "metadata": {},
   "outputs": [
    {
     "name": "stdout",
     "output_type": "stream",
     "text": [
      "['15+2' '5+10' '20+0' '30+3' '10+0' '15+30' '15+0' '20+60' '5+40' '8+0'\n",
      " '15+15' '15+16' '11+0' '30+60' '15+5' '10+10' '15+3' '18+0' '30+30'\n",
      " '20+25' '5+5' '30+0' '40+40' '16+0' '6+10' '8+10' '8+12' '7+12' '15+10'\n",
      " '20+5' '20+10' '45+0' '5+8' '30+2' '25+0' '10+2' '7+2' '25+25' '7+8'\n",
      " '6+6' '10+4' '12+0' '15+1' '2+10' '9+0' '10+9' '6+7' '30+10' '30+15'\n",
      " '10+3' '45+30' '9+2' '7+3' '6+5' '25+5' '5+7' '8+2' '20+8' '30+5' '25+15'\n",
      " '15+7' '8+8' '5+9' '16+7' '10+7' '7+5' '40+20' '10+5' '11+5' '10+15'\n",
      " '180+0' '17+5' '8+5' '3+8' '60+120' '90+120' '15+8' '9+1' '9+3' '2+15'\n",
      " '10+1' '5+12' '60+10' '5+60' '8+15' '30+25' '12+1' '14+0' '60+20' '10+8'\n",
      " '20+3' '14+12' '7+7' '60+0' '45+45' '4+15' '5+6' '180+180' '8+3' '4+6'\n",
      " '10+25' '3+10' '7+4' '6+3' '5+15' '45+15' '15+20' '6+8' '6+9' '14+8'\n",
      " '6+4' '15+4' '9+20' '20+15' '20+2' '9+10' '8+7' '13+1' '150+180' '3+12'\n",
      " '7+10' '10+60' '5+30' '20+30' '14+10' '25+10' '8+1' '19+0' '9+12' '20+1'\n",
      " '0+25' '0+15' '15+6' '8+6' '10+6' '25+8' '15+14' '20+20' '13+10' '3+9'\n",
      " '17+11' '12+5' '12+2' '7+25' '20+7' '12+6' '25+30' '15+45' '25+3' '17+1'\n",
      " '30+1' '17+8' '17+3' '45+10' '8+25' '19+19' '12+8' '9+9' '15+60' '5+20'\n",
      " '30+6' '12+12' '30+12' '25+2' '40+10' '16+2' '90+0' '30+11' '4+10'\n",
      " '12+13' '11+8' '60+4' '10+30' '60+3' '20+6' '1+30' '90+30' '4+8' '40+0'\n",
      " '17+2' '180+8' '12+10' '16+1' '1+10' '7+14' '3+15' '60+60' '13+3' '45+4'\n",
      " '45+5' '10+180' '120+0' '30+7' '14+4' '13+2' '6+20' '180+60' '60+30'\n",
      " '40+30' '30+35' '10+11' '1+12' '11+11' '18+5' '8+9' '15+11' '9+5' '19+17'\n",
      " '14+14' '17+15' '7+6' '40+2' '10+20' '12+9' '14+17' '14+20' '10+13'\n",
      " '30+8' '30+9' '30+4' '30+20' '5+180' '7+9' '5+13' '30+45' '25+4' '25+1'\n",
      " '12+4' '11+4' '13+0' '60+5' '9+11' '1+15' '12+3' '2+16' '13+5' '20+4'\n",
      " '40+1' '17+16' '11+10' '1+19' '40+60' '7+35' '16+10' '9+17' '15+12'\n",
      " '10+12' '35+10' '18+20' '6+15' '19+20' '11+1' '30+150' '35+3' '17+0'\n",
      " '40+15' '14+6' '20+40' '13+14' '8+4' '180+25' '2+20' '12+11' '13+13'\n",
      " '16+8' '60+7' '45+1' '20+11' '150+8' '20+180' '90+5' '9+6' '45+8' '17+90'\n",
      " '18+19' '0+12' '9+4' '35+0' '7+15' '1+25' '11+3' '17+13' '9+8' '13+12'\n",
      " '16+4' '19+8' '11+7' '0+180' '14+5' '19+2' '10+35' '4+7' '6+12' '19+30'\n",
      " '12+20' '29+30' '15+9' '120+1' '180+5' '12+7' '8+180' '35+15' '17+17'\n",
      " '150+60' '18+18' '18+10' '150+3' '1+13' '0+16' '5+17' '5+25' '25+17'\n",
      " '18+8' '180+45' '1+45' '10+45' '20+9' '25+9' '13+20' '1+20' '0+40' '0+20'\n",
      " '14+9' '40+9' '25+20' '180+150' '180+120' '20+12' '30+16' '20+120' '2+40'\n",
      " '19+5' '18+15' '19+45' '11+2' '5+21' '19+4' '4+180' '5+11' '60+13' '40+8'\n",
      " '4+18' '4+12' '21+0' '90+8' '13+7' '9+7' '14+2' '20+13' '19+3' '60+15'\n",
      " '3+35' '7+11' '2+12' '8+30' '120+10' '150+0' '5+14' '16+20' '15+25'\n",
      " '120+180' '60+40' '180+3' '10+40' '30+40' '3+30' '2+9' '7+18' '35+2'\n",
      " '8+11' '12+15' '1+18' '20+90' '4+20' '35+1' '7+30' '25+12' '45+2' '13+15'\n",
      " '14+1' '25+6' '16+3' '0+13' '60+1' '11+9' '19+18' '120+5' '9+15' '0+30'\n",
      " '6+30' '35+35' '3+20' '4+9' '10+14' '35+8' '13+40' '16+15' '60+180'\n",
      " '8+45' '14+15']\n"
     ]
    }
   ],
   "source": [
    "#checking the time and increment values for formatting issues\n",
    "print(games_df['time_increment'].unique())"
   ]
  },
  {
   "cell_type": "code",
   "execution_count": 23,
   "id": "f97e459b-e53c-4a0d-a304-104d8f7f6ee9",
   "metadata": {},
   "outputs": [],
   "source": [
    "#splitting time and increment into their own columns\n",
    "time_increment = games_df['time_increment'].str.split('+', expand=True)\n",
    "games_df['Time'] = time_increment[0].astype(int)\n",
    "games_df['Increment'] = time_increment[1].astype(int)"
   ]
  },
  {
   "cell_type": "code",
   "execution_count": 25,
   "id": "8d3ca9b5-4df7-4821-a79c-d97af039861f",
   "metadata": {},
   "outputs": [],
   "source": [
    "#defining the function to interpret the time control\n",
    "def timecontrol(minutes,increment):\n",
    "    if int(minutes)+int(increment) >= 30:\n",
    "        return \"Classical\"\n",
    "    elif int(minutes)+int(increment) >= 10:\n",
    "        return \"Rapid\"\n",
    "    elif int(minutes)+int(increment) >= 3:\n",
    "        return \"Blitz\"\n",
    "    elif int(minutes)+int(increment) >= 1:\n",
    "        return \"Bullet\"\n",
    "    else:\n",
    "        return \"Hyperbullet\""
   ]
  },
  {
   "cell_type": "code",
   "execution_count": 29,
   "id": "14f7bcea-3e21-4cf7-bfc5-9576c74f5e12",
   "metadata": {},
   "outputs": [],
   "source": [
    "#applying the time control function\n",
    "games_df['TimeControlCode'] = games_df.apply(lambda row: timecontrol(row['Time'], row['Increment']), axis=1)"
   ]
  },
  {
   "cell_type": "code",
   "execution_count": 35,
   "id": "d65db7be-bad6-4150-b87c-334c154c01d4",
   "metadata": {},
   "outputs": [],
   "source": [
    "#copying columns to a new dataframe where I will chunk-analyze with stockfish.\n",
    "games2_df = games_df[[\"game_id\",\"moves\"]].copy()"
   ]
  },
  {
   "cell_type": "code",
   "execution_count": 36,
   "id": "f7842b46-43ea-4f70-ae45-dd5904836add",
   "metadata": {},
   "outputs": [
    {
     "name": "stdout",
     "output_type": "stream",
     "text": [
      "Index(['game_id', 'moves', 'WhiteMove1', 'WhiteEvaluation1', 'WhiteBestMove1',\n",
      "       'BlackMove1', 'BlackEvaluation1', 'BlackBestMove1', 'WhiteMove2',\n",
      "       'WhiteEvaluation2', 'WhiteBestMove2', 'BlackMove2', 'BlackEvaluation2',\n",
      "       'BlackBestMove2', 'WhiteMove3', 'WhiteEvaluation3', 'WhiteBestMove3',\n",
      "       'BlackMove3', 'BlackEvaluation3', 'BlackBestMove3', 'WhiteMove4',\n",
      "       'WhiteEvaluation4', 'WhiteBestMove4', 'BlackMove4', 'BlackEvaluation4',\n",
      "       'BlackBestMove4', 'WhiteMove5', 'WhiteEvaluation5', 'WhiteBestMove5',\n",
      "       'BlackMove5', 'BlackEvaluation5', 'BlackBestMove5', 'WhiteMove6',\n",
      "       'WhiteEvaluation6', 'WhiteBestMove6', 'BlackMove6', 'BlackEvaluation6',\n",
      "       'BlackBestMove6', 'WhiteMove7', 'WhiteEvaluation7', 'WhiteBestMove7',\n",
      "       'BlackMove7', 'BlackEvaluation7', 'BlackBestMove7', 'WhiteMove8',\n",
      "       'WhiteEvaluation8', 'WhiteBestMove8', 'BlackMove8', 'BlackEvaluation8',\n",
      "       'BlackBestMove8', 'WhiteMove9', 'WhiteEvaluation9', 'WhiteBestMove9',\n",
      "       'BlackMove9', 'BlackEvaluation9', 'BlackBestMove9', 'WhiteMove10',\n",
      "       'WhiteEvaluation10', 'WhiteBestMove10', 'BlackMove10',\n",
      "       'BlackEvaluation10', 'BlackBestMove10'],\n",
      "      dtype='object')\n"
     ]
    }
   ],
   "source": [
    "# Define the column names\n",
    "columns = []\n",
    "for i in range(1, 11):\n",
    "    columns.extend([f\"WhiteMove{i}\", f\"WhiteEvaluation{i}\", f\"WhiteBestMove{i}\", f\"BlackMove{i}\", f\"BlackEvaluation{i}\", f\"BlackBestMove{i}\"])\n",
    "# Add empty columns to the existing DataFrame\n",
    "for column in columns:\n",
    "    games2_df[column] = None\n",
    "print(games2_df.columns)\n"
   ]
  },
  {
   "cell_type": "code",
   "execution_count": 38,
   "id": "e5d23848-f273-4273-b5f2-1ec62d43b2da",
   "metadata": {},
   "outputs": [],
   "source": [
    "#Writing to CSV files for hard storage.\n",
    "games2_df.to_csv(r\"C:\\Users\\CDHan\\Documents\\Online+Chess+Games\\chess_games_to_analyze.csv\", index=False)\n",
    "games_df.to_csv(r\"C:\\Users\\CDHan\\Documents\\Online+Chess+Games\\chess_games_processed.csv\", index=False)"
   ]
  },
  {
   "cell_type": "code",
   "execution_count": null,
   "id": "f2820021-7d46-4fcc-843b-e3769ccc46b0",
   "metadata": {},
   "outputs": [],
   "source": []
  }
 ],
 "metadata": {
  "kernelspec": {
   "display_name": "Python 3 (ipykernel)",
   "language": "python",
   "name": "python3"
  },
  "language_info": {
   "codemirror_mode": {
    "name": "ipython",
    "version": 3
   },
   "file_extension": ".py",
   "mimetype": "text/x-python",
   "name": "python",
   "nbconvert_exporter": "python",
   "pygments_lexer": "ipython3",
   "version": "3.10.9"
  }
 },
 "nbformat": 4,
 "nbformat_minor": 5
}
